{
 "cells": [
  {
   "cell_type": "markdown",
   "id": "e207d783-94a4-4b24-a461-978f125b11ef",
   "metadata": {},
   "source": [
    "# Web Scraping using Selenium"
   ]
  },
  {
   "cell_type": "code",
   "execution_count": 1,
   "id": "224b74b2-4f7b-4315-823e-f20128287c30",
   "metadata": {},
   "outputs": [],
   "source": [
    "#pip install selenium"
   ]
  },
  {
   "cell_type": "markdown",
   "id": "21ffc0b4-55e4-4e89-8ec4-504b30884c18",
   "metadata": {},
   "source": [
    "# Load Necessary Library"
   ]
  },
  {
   "cell_type": "code",
   "execution_count": 2,
   "id": "34d855fc-092f-4b4c-a87c-3d8058296521",
   "metadata": {},
   "outputs": [],
   "source": [
    "from selenium import webdriver\n",
    "from selenium.webdriver.common.by import By\n",
    "import pandas as pd\n",
    "import time"
   ]
  },
  {
   "cell_type": "markdown",
   "id": "1934a9a4-3ac6-4977-892c-5e5d4898b2c5",
   "metadata": {},
   "source": [
    "# Create an instance of ChromeOptions"
   ]
  },
  {
   "cell_type": "code",
   "execution_count": 3,
   "id": "0a657360-905a-4317-aca5-a19390d229e0",
   "metadata": {},
   "outputs": [],
   "source": [
    "options = webdriver.ChromeOptions()"
   ]
  },
  {
   "cell_type": "markdown",
   "id": "d49b33cd-2d4b-4747-8c3e-9d25eb369566",
   "metadata": {},
   "source": [
    "# Run Browser in headless mode"
   ]
  },
  {
   "cell_type": "code",
   "execution_count": 4,
   "id": "a48d5705-7d0b-4595-a7b6-4a5c7309f1ee",
   "metadata": {},
   "outputs": [],
   "source": [
    "options.add_argument(\"--headless=new\")"
   ]
  },
  {
   "cell_type": "markdown",
   "id": "d89af206-1b05-445b-ae28-8c677b8084a8",
   "metadata": {},
   "source": [
    "# Initialize the Chrome driver with the specified options"
   ]
  },
  {
   "cell_type": "code",
   "execution_count": 5,
   "id": "5970cd55-b148-4cf0-ae4e-bd51a33df845",
   "metadata": {},
   "outputs": [],
   "source": [
    "driver = webdriver.Chrome(options=options)"
   ]
  },
  {
   "cell_type": "markdown",
   "id": "39149c1c-222d-49f3-9d9b-a7b461ae6320",
   "metadata": {},
   "source": [
    "# URL where to be scraped"
   ]
  },
  {
   "cell_type": "code",
   "execution_count": 6,
   "id": "198a6576-e849-4bf7-b435-2f9fae8193ef",
   "metadata": {},
   "outputs": [],
   "source": [
    "url = \"https://en.wikipedia.org/wiki/List_of_countries_by_carbon_dioxide_emissions\""
   ]
  },
  {
   "cell_type": "markdown",
   "id": "5efa85ad-1476-4541-a47f-e6dd2444be71",
   "metadata": {},
   "source": [
    "# Navigate to web page"
   ]
  },
  {
   "cell_type": "code",
   "execution_count": 7,
   "id": "fcce34c4-53ac-46e8-918a-03e832dedf85",
   "metadata": {},
   "outputs": [],
   "source": [
    "driver.get(url)\n",
    "time.sleep(3)"
   ]
  },
  {
   "cell_type": "markdown",
   "id": "aeba958f-3223-40c4-9a28-fc6de47c90a0",
   "metadata": {},
   "source": [
    "# To get element from Web"
   ]
  },
  {
   "cell_type": "code",
   "execution_count": 8,
   "id": "3874e4f7-e6c3-4cc1-89b3-71d970ca45f9",
   "metadata": {},
   "outputs": [],
   "source": [
    "rows = driver.find_elements(By.XPATH,'//*[@id=\"mw-content-text\"]/div[1]/table[1]/tbody/tr[212]')"
   ]
  },
  {
   "cell_type": "markdown",
   "id": "9cb247aa-874a-4cbe-9669-616dce532a24",
   "metadata": {},
   "source": [
    "# Save the result into the list"
   ]
  },
  {
   "cell_type": "code",
   "execution_count": 9,
   "id": "91df4976-c007-49c1-a6c3-caed6aa83161",
   "metadata": {},
   "outputs": [
    {
     "name": "stdout",
     "output_type": "stream",
     "text": [
      "[' Faroe Islands', '0.0000%', '0.00', '0.00', ' +20%']\n"
     ]
    }
   ],
   "source": [
    "for row in rows:\n",
    "    cols = row.find_elements(By.TAG_NAME, \"td\")\n",
    "    data = [col.text for col in cols]\n",
    "    print(data)"
   ]
  },
  {
   "cell_type": "markdown",
   "id": "e7221615-19d4-4895-8c24-6c40c253bda3",
   "metadata": {},
   "source": [
    "# Get element at bigger scope"
   ]
  },
  {
   "cell_type": "code",
   "execution_count": 10,
   "id": "604acb97-1654-4684-b108-490e9ac82f80",
   "metadata": {},
   "outputs": [],
   "source": [
    "country = driver.find_elements(By.XPATH,'//*[@id=\"mw-content-text\"]/div[1]/table[1]')"
   ]
  },
  {
   "cell_type": "markdown",
   "id": "f43c2bb0-9005-4371-aa8b-19dee229dbe1",
   "metadata": {},
   "source": [
    "# Save the result into the list"
   ]
  },
  {
   "cell_type": "code",
   "execution_count": 11,
   "id": "666211a7-ddeb-4fc8-913e-35e31ebe3fd5",
   "metadata": {},
   "outputs": [],
   "source": [
    "for cnt in country:\n",
    "    rows = cnt.find_elements(By.TAG_NAME,\"tr\")\n",
    "    datas = [row.text for row in rows]\n",
    "    #print(datas)"
   ]
  },
  {
   "cell_type": "markdown",
   "id": "0bfaaca7-0f20-4b9c-8026-dd1144e30aee",
   "metadata": {},
   "source": [
    "# Checking the result"
   ]
  },
  {
   "cell_type": "code",
   "execution_count": 12,
   "id": "38b88255-9ce0-46cc-a64a-21f41271352c",
   "metadata": {},
   "outputs": [
    {
     "name": "stdout",
     "output_type": "stream",
     "text": [
      "[' China 34.0% 13,259.64 3,666.95  +262%', ' United States 12.0% 4,682.04 5,928.97  −21%']\n"
     ]
    }
   ],
   "source": [
    "print(datas[3:5])"
   ]
  },
  {
   "cell_type": "markdown",
   "id": "2731814a-f452-405b-9996-dd32e03d5cba",
   "metadata": {},
   "source": [
    "# Checking length data"
   ]
  },
  {
   "cell_type": "code",
   "execution_count": 13,
   "id": "f2403b8c-5e9a-4b41-8ca2-a9d28b8e4e5c",
   "metadata": {},
   "outputs": [
    {
     "name": "stdout",
     "output_type": "stream",
     "text": [
      "214\n"
     ]
    }
   ],
   "source": [
    "print(len(datas))"
   ]
  },
  {
   "cell_type": "markdown",
   "id": "10686e30-6e30-4897-b913-403d6d2320a9",
   "metadata": {},
   "source": [
    "# Checking list content at last data"
   ]
  },
  {
   "cell_type": "code",
   "execution_count": 14,
   "id": "98f3dd2a-b677-4ccf-a85e-eabe4728caad",
   "metadata": {},
   "outputs": [
    {
     "data": {
      "text/plain": [
       "' Faroe Islands 0.0000% 0.00 0.00  +20%'"
      ]
     },
     "execution_count": 14,
     "metadata": {},
     "output_type": "execute_result"
    }
   ],
   "source": [
    "datas[213]"
   ]
  },
  {
   "cell_type": "markdown",
   "id": "fb8c284e-bc85-4929-bee8-dca661aea0bc",
   "metadata": {},
   "source": [
    "# Change list dimension from 214 x 1 to 214 x 5"
   ]
  },
  {
   "cell_type": "code",
   "execution_count": 15,
   "id": "c8ba5fda-e982-4876-a2b9-5253ce2b6a4a",
   "metadata": {},
   "outputs": [],
   "source": [
    "new_data = [item.split() for item in datas]"
   ]
  },
  {
   "cell_type": "markdown",
   "id": "a72dc9c5-0767-4234-bfc1-18971a8d006a",
   "metadata": {},
   "source": [
    "# Checking result change dimension at 1st list"
   ]
  },
  {
   "cell_type": "code",
   "execution_count": 16,
   "id": "b7e4cde8-31c7-4c49-8501-49db5ce70176",
   "metadata": {},
   "outputs": [
    {
     "data": {
      "text/plain": [
       "['China', '34.0%', '13,259.64', '3,666.95', '+262%']"
      ]
     },
     "execution_count": 16,
     "metadata": {},
     "output_type": "execute_result"
    }
   ],
   "source": [
    "new_data[3]"
   ]
  },
  {
   "cell_type": "markdown",
   "id": "a7fdd6ac-68a9-42c2-9f30-b1add27e5f5c",
   "metadata": {},
   "source": [
    "# Checking result change dimension at last list"
   ]
  },
  {
   "cell_type": "code",
   "execution_count": 17,
   "id": "cf331071-e2ef-4003-8cbf-d5b5863722c2",
   "metadata": {},
   "outputs": [
    {
     "data": {
      "text/plain": [
       "['Faroe', 'Islands', '0.0000%', '0.00', '0.00', '+20%']"
      ]
     },
     "execution_count": 17,
     "metadata": {},
     "output_type": "execute_result"
    }
   ],
   "source": [
    "new_data[213]"
   ]
  },
  {
   "cell_type": "markdown",
   "id": "a0927c2a-ab39-4629-9a19-cf9b6d40f965",
   "metadata": {},
   "source": [
    "# Create copy data for manipulation"
   ]
  },
  {
   "cell_type": "code",
   "execution_count": 18,
   "id": "53e1ff8d-720e-4027-9462-aa19cd3aa4f1",
   "metadata": {},
   "outputs": [],
   "source": [
    "countries = new_data[3:214]"
   ]
  },
  {
   "cell_type": "markdown",
   "id": "afec651b-b99a-4720-9be4-5e41f2423c4f",
   "metadata": {},
   "source": [
    "# Checking copy data result"
   ]
  },
  {
   "cell_type": "code",
   "execution_count": 19,
   "id": "d36fa3b2-c0dd-48e4-acc7-d32dce635c3d",
   "metadata": {},
   "outputs": [
    {
     "data": {
      "text/plain": [
       "['Faroe', 'Islands', '0.0000%', '0.00', '0.00', '+20%']"
      ]
     },
     "execution_count": 19,
     "metadata": {},
     "output_type": "execute_result"
    }
   ],
   "source": [
    "countries[210]"
   ]
  },
  {
   "cell_type": "markdown",
   "id": "7c4078cf-19a9-45d5-be96-2218a115dbca",
   "metadata": {},
   "source": [
    "# Check data at correct dimension 1 x 5"
   ]
  },
  {
   "cell_type": "code",
   "execution_count": 20,
   "id": "b498faf0-aba8-4889-be14-0f1bfce5930e",
   "metadata": {},
   "outputs": [
    {
     "name": "stdout",
     "output_type": "stream",
     "text": [
      "1 ['United', 'States', '12.0%', '4,682.04', '5,928.97', '−21%']\n",
      "3 ['European', 'Union', '6.4%', '2,512.07', '3,563.26', '−30%']\n",
      "7 ['International', 'Shipping', '1.8%', '706.32', '503.29', '+40%']\n",
      "9 ['Saudi', 'Arabia', '1.6%', '622.91', '265.24', '+135%']\n",
      "12 ['South', 'Korea', '1.5%', '573.54', '474.16', '+21%']\n",
      "13 ['International', 'Aviation', '1.3%', '491.63', '355.32', '+38%']\n",
      "17 ['South', 'Africa', '1.0%', '397.37', '347.30', '+14%']\n",
      "20 ['Italy,', 'San', 'Marino', 'and', 'Vatican', 'City', '0.8%', '305.49', '454.72', '−33%']\n",
      "21 ['United', 'Kingdom', '0.8%', '302.10', '551.68', '−45%']\n",
      "24 ['France', 'and', 'Monaco', '0.7%', '282.43', '401.21', '−30%']\n",
      "29 ['Spain', 'and', 'Andorra', '0.6%', '217.26', '313.24', '−31%']\n",
      "30 ['United', 'Arab', 'Emirates', '0.5%', '205.99', '88.46', '+133%']\n",
      "45 ['Czech', 'Republic', '0.2%', '90.51', '132.31', '−32%']\n",
      "52 ['North', 'Korea', '0.2%', '64.27', '73.81', '−13%']\n",
      "54 ['Israel', 'and', 'Palestine', '0.2%', '61.25', '59.30', '+3%']\n",
      "58 ['Serbia', 'and', 'Montenegro', '0.1%', '56.12', '50.64', '+11%']\n",
      "68 ['New', 'Zealand', '0.09%', '35.80', '32.89', '+9%']\n",
      "71 ['Hong', 'Kong', '0.09%', '34.67', '41.90', '−17%']\n",
      "72 ['Switzerland', 'and', 'Liechtenstein', '0.09%', '34.22', '44.80', '−24%']\n",
      "77 ['Dominican', 'Republic', '0.08%', '31.35', '19.01', '+65%']\n",
      "80 ['Trinidad', 'and', 'Tobago', '0.07%', '27.22', '19.13', '+42%']\n",
      "88 ['Bosnia', 'and', 'Herzegovina', '0.06%', '22.00', '14.28', '+54%']\n",
      "91 ['Sudan', 'and', 'South', 'Sudan', '0.05%', '21.27', '6.00', '+255%']\n",
      "92 ['Sri', 'Lanka', '0.05%', '20.52', '11.46', '+79%']\n",
      "100 ['Ivory', 'Coast', '0.04%', '14.41', '6.97', '+107%']\n",
      "101 ['Puerto', 'Rico', '0.04%', '13.82', '25.18', '−45%']\n",
      "117 ['North', 'Macedonia', '0.02%', '8.76', '9.04', '−3%']\n",
      "119 ['Costa', 'Rica', '0.02%', '8.57', '5.12', '+67%']\n",
      "120 ['El', 'Salvador', '0.02%', '8.38', '5.80', '+45%']\n",
      "134 ['New', 'Caledonia', '0.02%', '6.21', '2.18', '+185%']\n",
      "135 ['Burkina', 'Faso', '0.02%', '6.00', '0.88', '+583%']\n",
      "136 ['Papua', 'New', 'Guinea', '0.02%', '5.95', '2.95', '+102%']\n",
      "144 ['Democratic', 'Republic', 'of', 'the', 'Congo', '0.01%', '3.80', '1.88', '+102%']\n",
      "145 ['Equatorial', 'Guinea', '0.01%', '3.78', '2.74', '+38%']\n",
      "166 ['French', 'Polynesia', '0.003%', '1.26', '0.72', '+75%']\n",
      "170 ['Sierra', 'Leone', '0.003%', '1.07', '0.43', '+147%']\n",
      "171 ['Cape', 'Verde', '0.003%', '1.01', '0.28', '+256%']\n",
      "177 ['East', 'Timor', '0.002%', '0.70', '0.23', '+208%']\n",
      "179 ['Eritrea', '0.002%', '0.67', '0.67', 'no', 'change%']\n",
      "184 ['Solomon', 'Islands', '0.001%', '0.42', '0.24', '+78%']\n",
      "185 ['French', 'Guiana', '0.001%', '0.38', '0.17', '+119%']\n",
      "186 ['Central', 'African', 'Republic', '0.001%', '0.37', '0.26', '+43%']\n",
      "187 ['Cayman', 'Islands', '0.001%', '0.36', '0.13', '+172%']\n",
      "190 ['Antigua', 'and', 'Barbuda', '0.001%', '0.32', '0.14', '+139%']\n",
      "192 ['Saint', 'Lucia', '0.001%', '0.30', '0.10', '+207%']\n",
      "195 ['Western', 'Sahara', '0.001%', '0.26', '0.26', '+4%']\n",
      "197 ['São', 'Tomé', 'and', 'Príncipe', '0.001%', '0.21', '0.06', '+288%']\n",
      "199 ['Cook', 'Islands', '0.0004%', '0.14', '0.06', '+133%']\n",
      "200 ['Saint', 'Kitts', 'and', 'Nevis', '0.0003%', '0.12', '0.05', '+140%']\n",
      "201 ['Turks', 'and', 'Caicos', 'Islands', '0.0003%', '0.10', '0.02', '+481%']\n",
      "203 ['Saint', 'Vincent', 'and', 'the', 'Grenadines', '0.0002%', '0.10', '0.04', '+131%']\n",
      "205 ['British', 'Virgin', 'Islands', '0.0002%', '0.08', '0.03', '+172%']\n",
      "206 ['Saint', 'Pierre', 'and', 'Miquelon', '0.0001%', '0.04', '0.02', '+129%']\n",
      "208 ['Falkland', 'Islands', '0.0000%', '0.02', '0.01', '+170%']\n",
      "209 ['Saint', 'Helena,', 'Ascension', 'and', 'Tristan', 'da', 'Cunha', '0.0000%', '0.02', '0.01', '+58%']\n",
      "210 ['Faroe', 'Islands', '0.0000%', '0.00', '0.00', '+20%']\n"
     ]
    }
   ],
   "source": [
    "for i,j in enumerate(countries):\n",
    "    if(len(j) > 5):\n",
    "        print(i, countries[i])"
   ]
  },
  {
   "cell_type": "markdown",
   "id": "17982613-ea63-4378-bd8a-e388609b8861",
   "metadata": {},
   "source": [
    "# Data correction for list > 5 for a list"
   ]
  },
  {
   "cell_type": "code",
   "execution_count": 21,
   "id": "0dcf98af-5ed4-474d-9b31-3049df455eec",
   "metadata": {},
   "outputs": [],
   "source": [
    "countries[209] = [' '.join(countries[209][:7])]+countries[209][7:]"
   ]
  },
  {
   "cell_type": "markdown",
   "id": "4f6a4170-0397-4710-9ab7-80841d661bce",
   "metadata": {},
   "source": [
    "# Checking data correction result"
   ]
  },
  {
   "cell_type": "code",
   "execution_count": 22,
   "id": "87763b2e-4011-45d4-9fa9-beaed5b3ac9a",
   "metadata": {},
   "outputs": [
    {
     "data": {
      "text/plain": [
       "['Saint Helena, Ascension and Tristan da Cunha',\n",
       " '0.0000%',\n",
       " '0.02',\n",
       " '0.01',\n",
       " '+58%']"
      ]
     },
     "execution_count": 22,
     "metadata": {},
     "output_type": "execute_result"
    }
   ],
   "source": [
    "countries[209]"
   ]
  },
  {
   "cell_type": "markdown",
   "id": "0d2aed6d-3269-4af0-81df-e9ea34dd519a",
   "metadata": {},
   "source": [
    "# Data correction for all data"
   ]
  },
  {
   "cell_type": "code",
   "execution_count": 23,
   "id": "29233556-b1f9-4c86-984e-f903743d8a4c",
   "metadata": {},
   "outputs": [],
   "source": [
    "for i, j in enumerate(countries):\n",
    "    if(len(j) > 5):\n",
    "        x = len(j) - 4\n",
    "        countries[i] = [' '.join(countries[i][:x])] + countries[i][x:]"
   ]
  },
  {
   "cell_type": "markdown",
   "id": "e9355c0b-d029-42d9-9500-327c55ba3329",
   "metadata": {},
   "source": [
    "# Check if all data correct dimension"
   ]
  },
  {
   "cell_type": "code",
   "execution_count": 24,
   "id": "85af7a2f-d216-4485-aa12-5acd8bc01c05",
   "metadata": {},
   "outputs": [
    {
     "name": "stdout",
     "output_type": "stream",
     "text": [
      "Data already OK\n"
     ]
    }
   ],
   "source": [
    "# Check if any list > 5\n",
    "for i in countries:\n",
    "    if(len(i) > 5):\n",
    "        print(\"Data correction needed\")\n",
    "        break\n",
    "    elif(len(i) < 5):\n",
    "        print(\"Data correction needed\")\n",
    "        break\n",
    "    else:\n",
    "        print(\"Data already OK\")\n",
    "        break"
   ]
  },
  {
   "cell_type": "markdown",
   "id": "769288b3-12ea-4133-8c95-372d04ad12dd",
   "metadata": {},
   "source": [
    "# List manipulation for row names"
   ]
  },
  {
   "cell_type": "code",
   "execution_count": 25,
   "id": "d3d20bb3-822c-480a-ad20-c214053348f8",
   "metadata": {},
   "outputs": [
    {
     "data": {
      "text/plain": [
       "['Location',\n",
       " '%',\n",
       " 'of',\n",
       " 'global',\n",
       " 'total',\n",
       " 'Fossil',\n",
       " 'emissions',\n",
       " '(1,000,000',\n",
       " 'tons',\n",
       " 'per',\n",
       " 'year)',\n",
       " '%',\n",
       " 'change',\n",
       " 'from',\n",
       " '2000']"
      ]
     },
     "execution_count": 25,
     "metadata": {},
     "output_type": "execute_result"
    }
   ],
   "source": [
    "new_data[0]"
   ]
  },
  {
   "cell_type": "code",
   "execution_count": 26,
   "id": "1a57edda-52a5-48e0-9a94-7741a875e9c5",
   "metadata": {},
   "outputs": [
    {
     "data": {
      "text/plain": [
       "'2023'"
      ]
     },
     "execution_count": 26,
     "metadata": {},
     "output_type": "execute_result"
    }
   ],
   "source": [
    "new_data[1][0]"
   ]
  },
  {
   "cell_type": "code",
   "execution_count": 27,
   "id": "b40d4cfe-0d58-40b2-80b7-239888ad749b",
   "metadata": {},
   "outputs": [
    {
     "name": "stdout",
     "output_type": "stream",
     "text": [
      "['Location', '%', 'of', 'global', 'total', 'Fossil', 'emissions', '(1,000,000', 'tons', 'per', 'year)', '%', 'change', 'from', '2000', '2023', '2000']\n",
      "17\n"
     ]
    }
   ],
   "source": [
    "des = new_data[0] + new_data[1]\n",
    "print(des)\n",
    "print(len(des))"
   ]
  },
  {
   "cell_type": "code",
   "execution_count": 28,
   "id": "653de0db-eaeb-433b-a239-0cbb595f7c06",
   "metadata": {},
   "outputs": [],
   "source": [
    "description = [des[0], ' '.join(des[1:5]), ' '.join(des[5:7])+' '+des[15], ' '.join(des[5:7])+' '+des[16], ' '.join(des[11:15])]"
   ]
  },
  {
   "cell_type": "markdown",
   "id": "dfae3306-955e-4115-8035-642525a4de63",
   "metadata": {},
   "source": [
    "# Row names result"
   ]
  },
  {
   "cell_type": "code",
   "execution_count": 29,
   "id": "bf2fe4e6-7328-4f30-a0e8-68fbc7b9f05f",
   "metadata": {},
   "outputs": [
    {
     "data": {
      "text/plain": [
       "['Location',\n",
       " '% of global total',\n",
       " 'Fossil emissions 2023',\n",
       " 'Fossil emissions 2000',\n",
       " '% change from 2000']"
      ]
     },
     "execution_count": 29,
     "metadata": {},
     "output_type": "execute_result"
    }
   ],
   "source": [
    "description"
   ]
  },
  {
   "cell_type": "markdown",
   "id": "7f151cb3-3d38-4672-90f0-0dfdb41dab8f",
   "metadata": {},
   "source": [
    "# Data frame for save to document format"
   ]
  },
  {
   "cell_type": "code",
   "execution_count": 30,
   "id": "8f527b3c-619e-43f2-aaed-ee63b5cfc9d8",
   "metadata": {},
   "outputs": [],
   "source": [
    "df = pd.DataFrame(countries, columns=description)"
   ]
  },
  {
   "cell_type": "markdown",
   "id": "1f6aa1b9-dc71-46f2-a3b3-74ef54fc7078",
   "metadata": {},
   "source": [
    "# Data Frame result"
   ]
  },
  {
   "cell_type": "code",
   "execution_count": 31,
   "id": "2e955586-3988-4567-bb16-81c6bc0b7919",
   "metadata": {},
   "outputs": [
    {
     "data": {
      "text/html": [
       "<div>\n",
       "<style scoped>\n",
       "    .dataframe tbody tr th:only-of-type {\n",
       "        vertical-align: middle;\n",
       "    }\n",
       "\n",
       "    .dataframe tbody tr th {\n",
       "        vertical-align: top;\n",
       "    }\n",
       "\n",
       "    .dataframe thead th {\n",
       "        text-align: right;\n",
       "    }\n",
       "</style>\n",
       "<table border=\"1\" class=\"dataframe\">\n",
       "  <thead>\n",
       "    <tr style=\"text-align: right;\">\n",
       "      <th></th>\n",
       "      <th>Location</th>\n",
       "      <th>% of global total</th>\n",
       "      <th>Fossil emissions 2023</th>\n",
       "      <th>Fossil emissions 2000</th>\n",
       "      <th>% change from 2000</th>\n",
       "    </tr>\n",
       "  </thead>\n",
       "  <tbody>\n",
       "    <tr>\n",
       "      <th>0</th>\n",
       "      <td>China</td>\n",
       "      <td>34.0%</td>\n",
       "      <td>13,259.64</td>\n",
       "      <td>3,666.95</td>\n",
       "      <td>+262%</td>\n",
       "    </tr>\n",
       "    <tr>\n",
       "      <th>1</th>\n",
       "      <td>United States</td>\n",
       "      <td>12.0%</td>\n",
       "      <td>4,682.04</td>\n",
       "      <td>5,928.97</td>\n",
       "      <td>−21%</td>\n",
       "    </tr>\n",
       "    <tr>\n",
       "      <th>2</th>\n",
       "      <td>India</td>\n",
       "      <td>7.6%</td>\n",
       "      <td>2,955.18</td>\n",
       "      <td>995.65</td>\n",
       "      <td>+197%</td>\n",
       "    </tr>\n",
       "    <tr>\n",
       "      <th>3</th>\n",
       "      <td>European Union</td>\n",
       "      <td>6.4%</td>\n",
       "      <td>2,512.07</td>\n",
       "      <td>3,563.26</td>\n",
       "      <td>−30%</td>\n",
       "    </tr>\n",
       "    <tr>\n",
       "      <th>4</th>\n",
       "      <td>Russia</td>\n",
       "      <td>5.3%</td>\n",
       "      <td>2,069.50</td>\n",
       "      <td>1,681.14</td>\n",
       "      <td>+23%</td>\n",
       "    </tr>\n",
       "    <tr>\n",
       "      <th>...</th>\n",
       "      <td>...</td>\n",
       "      <td>...</td>\n",
       "      <td>...</td>\n",
       "      <td>...</td>\n",
       "      <td>...</td>\n",
       "    </tr>\n",
       "    <tr>\n",
       "      <th>206</th>\n",
       "      <td>Saint Pierre and Miquelon</td>\n",
       "      <td>0.0001%</td>\n",
       "      <td>0.04</td>\n",
       "      <td>0.02</td>\n",
       "      <td>+129%</td>\n",
       "    </tr>\n",
       "    <tr>\n",
       "      <th>207</th>\n",
       "      <td>Anguilla</td>\n",
       "      <td>0.0001%</td>\n",
       "      <td>0.02</td>\n",
       "      <td>0.02</td>\n",
       "      <td>+48%</td>\n",
       "    </tr>\n",
       "    <tr>\n",
       "      <th>208</th>\n",
       "      <td>Falkland Islands</td>\n",
       "      <td>0.0000%</td>\n",
       "      <td>0.02</td>\n",
       "      <td>0.01</td>\n",
       "      <td>+170%</td>\n",
       "    </tr>\n",
       "    <tr>\n",
       "      <th>209</th>\n",
       "      <td>Saint Helena, Ascension and Tristan da Cunha</td>\n",
       "      <td>0.0000%</td>\n",
       "      <td>0.02</td>\n",
       "      <td>0.01</td>\n",
       "      <td>+58%</td>\n",
       "    </tr>\n",
       "    <tr>\n",
       "      <th>210</th>\n",
       "      <td>Faroe Islands</td>\n",
       "      <td>0.0000%</td>\n",
       "      <td>0.00</td>\n",
       "      <td>0.00</td>\n",
       "      <td>+20%</td>\n",
       "    </tr>\n",
       "  </tbody>\n",
       "</table>\n",
       "<p>211 rows × 5 columns</p>\n",
       "</div>"
      ],
      "text/plain": [
       "                                         Location % of global total  \\\n",
       "0                                           China             34.0%   \n",
       "1                                   United States             12.0%   \n",
       "2                                           India              7.6%   \n",
       "3                                  European Union              6.4%   \n",
       "4                                          Russia              5.3%   \n",
       "..                                            ...               ...   \n",
       "206                     Saint Pierre and Miquelon           0.0001%   \n",
       "207                                      Anguilla           0.0001%   \n",
       "208                              Falkland Islands           0.0000%   \n",
       "209  Saint Helena, Ascension and Tristan da Cunha           0.0000%   \n",
       "210                                 Faroe Islands           0.0000%   \n",
       "\n",
       "    Fossil emissions 2023 Fossil emissions 2000 % change from 2000  \n",
       "0               13,259.64              3,666.95              +262%  \n",
       "1                4,682.04              5,928.97               −21%  \n",
       "2                2,955.18                995.65              +197%  \n",
       "3                2,512.07              3,563.26               −30%  \n",
       "4                2,069.50              1,681.14               +23%  \n",
       "..                    ...                   ...                ...  \n",
       "206                  0.04                  0.02              +129%  \n",
       "207                  0.02                  0.02               +48%  \n",
       "208                  0.02                  0.01              +170%  \n",
       "209                  0.02                  0.01               +58%  \n",
       "210                  0.00                  0.00               +20%  \n",
       "\n",
       "[211 rows x 5 columns]"
      ]
     },
     "execution_count": 31,
     "metadata": {},
     "output_type": "execute_result"
    }
   ],
   "source": [
    "df"
   ]
  },
  {
   "cell_type": "code",
   "execution_count": 32,
   "id": "be518aee-5457-42e5-8301-97177123d548",
   "metadata": {},
   "outputs": [
    {
     "data": {
      "text/html": [
       "<div>\n",
       "<style scoped>\n",
       "    .dataframe tbody tr th:only-of-type {\n",
       "        vertical-align: middle;\n",
       "    }\n",
       "\n",
       "    .dataframe tbody tr th {\n",
       "        vertical-align: top;\n",
       "    }\n",
       "\n",
       "    .dataframe thead th {\n",
       "        text-align: right;\n",
       "    }\n",
       "</style>\n",
       "<table border=\"1\" class=\"dataframe\">\n",
       "  <thead>\n",
       "    <tr style=\"text-align: right;\">\n",
       "      <th></th>\n",
       "      <th>Location</th>\n",
       "      <th>% of global total</th>\n",
       "      <th>Fossil emissions 2023</th>\n",
       "      <th>Fossil emissions 2000</th>\n",
       "      <th>% change from 2000</th>\n",
       "    </tr>\n",
       "  </thead>\n",
       "  <tbody>\n",
       "    <tr>\n",
       "      <th>1</th>\n",
       "      <td>United States</td>\n",
       "      <td>12.0%</td>\n",
       "      <td>4,682.04</td>\n",
       "      <td>5,928.97</td>\n",
       "      <td>−21%</td>\n",
       "    </tr>\n",
       "    <tr>\n",
       "      <th>2</th>\n",
       "      <td>India</td>\n",
       "      <td>7.6%</td>\n",
       "      <td>2,955.18</td>\n",
       "      <td>995.65</td>\n",
       "      <td>+197%</td>\n",
       "    </tr>\n",
       "    <tr>\n",
       "      <th>3</th>\n",
       "      <td>European Union</td>\n",
       "      <td>6.4%</td>\n",
       "      <td>2,512.07</td>\n",
       "      <td>3,563.26</td>\n",
       "      <td>−30%</td>\n",
       "    </tr>\n",
       "    <tr>\n",
       "      <th>4</th>\n",
       "      <td>Russia</td>\n",
       "      <td>5.3%</td>\n",
       "      <td>2,069.50</td>\n",
       "      <td>1,681.14</td>\n",
       "      <td>+23%</td>\n",
       "    </tr>\n",
       "    <tr>\n",
       "      <th>5</th>\n",
       "      <td>Japan</td>\n",
       "      <td>2.4%</td>\n",
       "      <td>944.76</td>\n",
       "      <td>1,248.81</td>\n",
       "      <td>−24%</td>\n",
       "    </tr>\n",
       "  </tbody>\n",
       "</table>\n",
       "</div>"
      ],
      "text/plain": [
       "         Location % of global total Fossil emissions 2023  \\\n",
       "1   United States             12.0%              4,682.04   \n",
       "2           India              7.6%              2,955.18   \n",
       "3  European Union              6.4%              2,512.07   \n",
       "4          Russia              5.3%              2,069.50   \n",
       "5           Japan              2.4%                944.76   \n",
       "\n",
       "  Fossil emissions 2000 % change from 2000  \n",
       "1              5,928.97               −21%  \n",
       "2                995.65              +197%  \n",
       "3              3,563.26               −30%  \n",
       "4              1,681.14               +23%  \n",
       "5              1,248.81               −24%  "
      ]
     },
     "execution_count": 32,
     "metadata": {},
     "output_type": "execute_result"
    }
   ],
   "source": [
    "df[1:6]"
   ]
  },
  {
   "cell_type": "markdown",
   "id": "682b2238-5dfd-4cfc-982b-c28f9e359311",
   "metadata": {},
   "source": [
    "# Save to csv format"
   ]
  },
  {
   "cell_type": "code",
   "execution_count": 33,
   "id": "7f5c65cc-b564-4b66-a419-90fb83aeef2c",
   "metadata": {},
   "outputs": [],
   "source": [
    "df.to_csv(\"CO2 Emission Country.csv\", index=False)"
   ]
  },
  {
   "cell_type": "markdown",
   "id": "2a5ba518-b19c-4663-8295-d338f8a9ec59",
   "metadata": {},
   "source": [
    "# Close the driver connection"
   ]
  },
  {
   "cell_type": "code",
   "execution_count": 34,
   "id": "efcb8134-b314-4b39-a08d-dbffb840ab6a",
   "metadata": {},
   "outputs": [],
   "source": [
    "driver.quit()"
   ]
  },
  {
   "cell_type": "code",
   "execution_count": null,
   "id": "153224cd-7fc2-4095-bdb8-4b2391c1646c",
   "metadata": {},
   "outputs": [],
   "source": []
  }
 ],
 "metadata": {
  "kernelspec": {
   "display_name": "Python 3 (ipykernel)",
   "language": "python",
   "name": "python3"
  },
  "language_info": {
   "codemirror_mode": {
    "name": "ipython",
    "version": 3
   },
   "file_extension": ".py",
   "mimetype": "text/x-python",
   "name": "python",
   "nbconvert_exporter": "python",
   "pygments_lexer": "ipython3",
   "version": "3.9.21"
  }
 },
 "nbformat": 4,
 "nbformat_minor": 5
}
